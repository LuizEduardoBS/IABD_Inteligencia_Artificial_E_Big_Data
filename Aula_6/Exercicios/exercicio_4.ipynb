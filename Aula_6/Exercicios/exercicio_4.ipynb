{
 "cells": [
  {
   "cell_type": "code",
   "execution_count": 1,
   "metadata": {},
   "outputs": [],
   "source": [
    "import numpy as np \n",
    "from sklearn.model_selection  import train_test_split # Biblioteca para dividior os dados teste e treino\n",
    "from sklearn.tree import DecisionTreeClassifier # Importa o algoritmo da arvore de decisão\n",
    "from sklearn import tree # Biblioteca para plotar a arvore de decisão\n",
    "import matplotlib.pyplot as plt\n",
    "import seaborn as sns\n",
    "import pandas as pd\n",
    "from sklearn.metrics import accuracy_score # Métrica de acurácia do algoritmo (acurácia= acertos / acertos+erros)\n",
    "from sklearn.metrics import confusion_matrix # Importa a matriz de confusão"
   ]
  },
  {
   "cell_type": "code",
   "execution_count": null,
   "metadata": {},
   "outputs": [],
   "source": [
    "data = pd.DataFrame({\n",
    "    'Consumo de Energia (kWh)': [1000, 3000, 1500, 2500, 1200, 3500],\n",
    "    'Tempo de Operação (horas)': [200, 500, 300, 400, 250, 600],\n",
    "    'Tipo de Energia': ['Elétrica', 'Gás', 'Elétrica', 'Gás', 'Elétrica', 'Gás'],\n",
    "    'Classificação': ['Eficiente', 'Ineficiente', 'Eficiente', 'Ineficiente', 'Eficiente', 'Ineficiente']\n",
    "})"
   ]
  },
  {
   "cell_type": "code",
   "execution_count": null,
   "metadata": {},
   "outputs": [],
   "source": [
    "x = np.array(data[''])\n",
    "y = np.array(data['Classificação'])"
   ]
  }
 ],
 "metadata": {
  "kernelspec": {
   "display_name": "Python 3",
   "language": "python",
   "name": "python3"
  },
  "language_info": {
   "codemirror_mode": {
    "name": "ipython",
    "version": 3
   },
   "file_extension": ".py",
   "mimetype": "text/x-python",
   "name": "python",
   "nbconvert_exporter": "python",
   "pygments_lexer": "ipython3",
   "version": "3.12.3"
  }
 },
 "nbformat": 4,
 "nbformat_minor": 2
}
