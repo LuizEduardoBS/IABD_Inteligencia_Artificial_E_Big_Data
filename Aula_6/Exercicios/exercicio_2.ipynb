{
 "cells": [
  {
   "cell_type": "code",
   "execution_count": 1,
   "metadata": {},
   "outputs": [],
   "source": [
    "import numpy as np \n",
    "from sklearn.model_selection  import train_test_split # Biblioteca para dividior os dados teste e treino\n",
    "from sklearn.tree import DecisionTreeClassifier # Importa o algoritmo da arvore de decisão\n",
    "from sklearn import tree # Biblioteca para plotar a arvore de decisão\n",
    "import matplotlib.pyplot as plt\n",
    "import seaborn as sns\n",
    "import pandas as pd\n",
    "from sklearn.metrics import accuracy_score # Métrica de acurácia do algoritmo (acurácia= acertos / acertos+erros)\n",
    "from sklearn.metrics import confusion_matrix # Importa a matriz de confusão"
   ]
  },
  {
   "cell_type": "code",
   "execution_count": 2,
   "metadata": {},
   "outputs": [],
   "source": [
    "data = pd.DataFrame({\n",
    "  'idade': [5, 10, 3, 8, 1, 15], \n",
    "  'Histórico de Manutenção': ['Bom', 'Ruim', 'Excelente', 'Regular', 'Excelente', 'Ruim'], \n",
    "  'Número de Falhas Anteriores': [0, 3, 0, 2, 0, 5], \n",
    "  'Nível de Automação': ['Alto', 'Baixo', 'Médio', 'Alto', 'Médio', 'Baixo'], \n",
    "  'Classificação': ['Segura', 'Não Segura', 'Segura', 'Não Segura', 'Segura', 'Não Segura']\n",
    "})"
   ]
  },
  {
   "cell_type": "code",
   "execution_count": null,
   "metadata": {},
   "outputs": [],
   "source": [
    "x = np.array(data[''])\n",
    "y = np.array(data[''])"
   ]
  },
  {
   "cell_type": "code",
   "execution_count": null,
   "metadata": {},
   "outputs": [],
   "source": []
  }
 ],
 "metadata": {
  "kernelspec": {
   "display_name": "Python 3",
   "language": "python",
   "name": "python3"
  },
  "language_info": {
   "codemirror_mode": {
    "name": "ipython",
    "version": 3
   },
   "file_extension": ".py",
   "mimetype": "text/x-python",
   "name": "python",
   "nbconvert_exporter": "python",
   "pygments_lexer": "ipython3",
   "version": "3.12.5"
  }
 },
 "nbformat": 4,
 "nbformat_minor": 2
}
